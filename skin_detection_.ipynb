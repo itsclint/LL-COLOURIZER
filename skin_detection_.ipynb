{
  "nbformat": 4,
  "nbformat_minor": 0,
  "metadata": {
    "colab": {
      "name": "skin detection .ipynb",
      "provenance": [],
      "include_colab_link": true
    },
    "kernelspec": {
      "name": "python3",
      "display_name": "Python 3"
    },
    "accelerator": "GPU"
  },
  "cells": [
    {
      "cell_type": "markdown",
      "metadata": {
        "id": "view-in-github",
        "colab_type": "text"
      },
      "source": [
        "<a href=\"https://colab.research.google.com/github/itsclint/LL-COLOURIZER/blob/master/skin_detection_.ipynb\" target=\"_parent\"><img src=\"https://colab.research.google.com/assets/colab-badge.svg\" alt=\"Open In Colab\"/></a>"
      ]
    },
    {
      "cell_type": "code",
      "metadata": {
        "id": "xc8LwjPhReBB",
        "colab_type": "code",
        "colab": {}
      },
      "source": [
        "# Required modules\n",
        "import cv2\n",
        "import numpy as np\n",
        "import matplotlib.pyplot as plt"
      ],
      "execution_count": 0,
      "outputs": []
    },
    {
      "cell_type": "code",
      "metadata": {
        "id": "BtxXPRloYm-4",
        "colab_type": "code",
        "colab": {}
      },
      "source": [
        "min_YCrCb = np.array([0,133,77],np.uint8)\n",
        "max_YCrCb = np.array([235,173,127],np.uint8)"
      ],
      "execution_count": 0,
      "outputs": []
    },
    {
      "cell_type": "code",
      "metadata": {
        "id": "KzQ3ms7BY5_m",
        "colab_type": "code",
        "colab": {}
      },
      "source": [
        "#read image\n",
        "image = cv2.imread(\"/content/aba-bay-area-happy-little-girl-smiling-700x467.jpg\")"
      ],
      "execution_count": 0,
      "outputs": []
    },
    {
      "cell_type": "code",
      "metadata": {
        "id": "JC8yyXeZZIXb",
        "colab_type": "code",
        "colab": {}
      },
      "source": [
        "#convert image from BGR to YCrCb colour space\n",
        "imageYCrCb = cv2.cvtColor(image,cv2.COLOR_BGR2YCR_CB)\n",
        "skinRegionYCrCb = cv2.inRange(imageYCrCb,min_YCrCb,max_YCrCb)\n"
      ],
      "execution_count": 0,
      "outputs": []
    },
    {
      "cell_type": "code",
      "metadata": {
        "id": "Q7VKmt7waXsY",
        "colab_type": "code",
        "colab": {}
      },
      "source": [
        "skinYCrCb = cv2.bitwise_and(image, image, mask = skinRegionYCrCb)"
      ],
      "execution_count": 0,
      "outputs": []
    },
    {
      "cell_type": "code",
      "metadata": {
        "id": "pbM1GR3aauRx",
        "colab_type": "code",
        "colab": {
          "base_uri": "https://localhost:8080/",
          "height": 34
        },
        "outputId": "18950056-922e-4ed1-8a51-9fa53a87fe1e"
      },
      "source": [
        "cv2.imwrite(\"/content/aba-bay-area-happy-little-girl-smiling-700x467.png\", np.hstack([image,skinYCrCb]))"
      ],
      "execution_count": 8,
      "outputs": [
        {
          "output_type": "execute_result",
          "data": {
            "text/plain": [
              "True"
            ]
          },
          "metadata": {
            "tags": []
          },
          "execution_count": 8
        }
      ]
    },
    {
      "cell_type": "code",
      "metadata": {
        "id": "YtGorkfMi3Ba",
        "colab_type": "code",
        "colab": {}
      },
      "source": [
        ""
      ],
      "execution_count": 0,
      "outputs": []
    }
  ]
}